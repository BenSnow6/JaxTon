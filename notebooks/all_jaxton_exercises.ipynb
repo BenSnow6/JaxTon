{
  "metadata": {
    "kernelspec": {
      "language": "python",
      "display_name": "Python 3",
      "name": "python3"
    },
    "language_info": {
      "pygments_lexer": "ipython3",
      "nbconvert_exporter": "python",
      "version": "3.6.4",
      "file_extension": ".py",
      "codemirror_mode": {
        "name": "ipython",
        "version": 3
      },
      "name": "python",
      "mimetype": "text/x-python"
    },
    "colab": {
      "provenance": [],
      "include_colab_link": true
    }
  },
  "nbformat_minor": 0,
  "nbformat": 4,
  "cells": [
    {
      "cell_type": "markdown",
      "metadata": {
        "id": "view-in-github",
        "colab_type": "text"
      },
      "source": [
        "<a href=\"https://colab.research.google.com/github/BenSnow6/JaxTon/blob/main/notebooks/all_jaxton_exercises.ipynb\" target=\"_parent\"><img src=\"https://colab.research.google.com/assets/colab-badge.svg\" alt=\"Open In Colab\"/></a>"
      ]
    },
    {
      "cell_type": "markdown",
      "source": [
        "<center>\n",
        "    <h1>JaxTon</h1>\n",
        "    <i>💯 JAX exercises</i>\n",
        "    <br>\n",
        "    <br>\n",
        "    <a href='https://github.com/vopani/jaxton/blob/master/LICENSE'>\n",
        "        <img src='https://img.shields.io/badge/license-Apache%202.0-blue.svg?logo=apache'>\n",
        "    </a>\n",
        "    <a href='https://github.com/vopani/jaxton'>\n",
        "        <img src='https://img.shields.io/github/stars/vopani/jaxton?color=yellowgreen&logo=github'>\n",
        "    </a>\n",
        "    <a href='https://twitter.com/vopani'>\n",
        "        <img src='https://img.shields.io/twitter/follow/vopani'>\n",
        "    </a>\n",
        "</center>"
      ],
      "metadata": {
        "papermill": {
          "duration": 0.01716,
          "end_time": "2022-01-09T11:47:46.089693",
          "exception": false,
          "start_time": "2022-01-09T11:47:46.072533",
          "status": "completed"
        },
        "tags": [],
        "id": "ibqXKF37RR9v"
      }
    },
    {
      "cell_type": "markdown",
      "source": [
        "<center>\n",
        "    All exercises of <b>JaxTon</b>: <i>💯 JAX exercises</i>\n",
        "    <br>\n",
        "    You can find individual sets of the exercises and solutions on <a href=\"https://github.com/vopani/jaxton#exercises-\">GitHub</a>\n",
        "</center>"
      ],
      "metadata": {
        "papermill": {
          "duration": 0.015686,
          "end_time": "2022-01-09T11:47:46.12191",
          "exception": false,
          "start_time": "2022-01-09T11:47:46.106224",
          "status": "completed"
        },
        "tags": [],
        "id": "UEJZmXtaRR90"
      }
    },
    {
      "cell_type": "markdown",
      "source": [
        "**Prerequisites**\n",
        "\n",
        "* The configuration of jax should be updated as shown in the code snippet below in order to use TPUs.\n",
        "* A sample array `sample_data` will be used for some of the exercises.\n",
        "* Sample functions `square`, `cube` and `areas` will be used for some of the exercises."
      ],
      "metadata": {
        "papermill": {
          "duration": 0.015589,
          "end_time": "2022-01-09T11:47:46.15344",
          "exception": false,
          "start_time": "2022-01-09T11:47:46.137851",
          "status": "completed"
        },
        "tags": [],
        "id": "e10NPRvURR90"
      }
    },
    {
      "cell_type": "code",
      "source": [
        "## install jax\n",
        "!python3 -m pip install jax"
      ],
      "metadata": {
        "_kg_hide-input": true,
        "_kg_hide-output": true,
        "execution": {
          "iopub.status.busy": "2022-02-07T06:30:17.03978Z",
          "iopub.execute_input": "2022-02-07T06:30:17.040119Z",
          "iopub.status.idle": "2022-02-07T06:30:27.944539Z",
          "shell.execute_reply.started": "2022-02-07T06:30:17.040036Z",
          "shell.execute_reply": "2022-02-07T06:30:27.943364Z"
        },
        "trusted": true,
        "id": "xsMNT-UkRR91"
      },
      "execution_count": null,
      "outputs": []
    },
    {
      "cell_type": "code",
      "source": [
        "## import packages\n",
        "import jax\n",
        "import jax.numpy as jnp\n",
        "import math\n",
        "import os\n",
        "import requests\n",
        "\n",
        "## setup JAX to use TPUs if available\n",
        "try:\n",
        "    url = 'http:' + os.environ['TPU_NAME'].split(':')[1] + ':8475/requestversion/tpu_driver_nightly'\n",
        "    resp = requests.post(url)\n",
        "    jax.config.FLAGS.jax_xla_backend = 'tpu_driver'\n",
        "    jax.config.FLAGS.jax_backend_target = os.environ['TPU_NAME']\n",
        "except:\n",
        "    pass\n",
        "\n",
        "jax.devices()"
      ],
      "metadata": {
        "_kg_hide-input": false,
        "papermill": {
          "duration": 1.693423,
          "end_time": "2022-01-09T11:47:47.862757",
          "exception": false,
          "start_time": "2022-01-09T11:47:46.169334",
          "status": "completed"
        },
        "tags": [],
        "execution": {
          "iopub.status.busy": "2022-02-07T06:30:27.946932Z",
          "iopub.execute_input": "2022-02-07T06:30:27.947295Z",
          "iopub.status.idle": "2022-02-07T06:30:30.008108Z",
          "shell.execute_reply.started": "2022-02-07T06:30:27.947249Z",
          "shell.execute_reply": "2022-02-07T06:30:30.007356Z"
        },
        "trusted": true,
        "id": "UYG0HNf9RR92"
      },
      "execution_count": null,
      "outputs": []
    },
    {
      "cell_type": "code",
      "source": [
        "## sample data\n",
        "sample_data = jnp.array([10, 1, 24, 20, 15, 14])\n",
        "sample_data"
      ],
      "metadata": {
        "execution": {
          "iopub.status.busy": "2022-02-07T06:30:30.009707Z",
          "iopub.execute_input": "2022-02-07T06:30:30.010495Z",
          "iopub.status.idle": "2022-02-07T06:30:30.02428Z",
          "shell.execute_reply.started": "2022-02-07T06:30:30.010459Z",
          "shell.execute_reply": "2022-02-07T06:30:30.023365Z"
        },
        "trusted": true,
        "id": "dUmmy7oNRR93"
      },
      "execution_count": null,
      "outputs": []
    },
    {
      "cell_type": "code",
      "source": [
        "## sample square function\n",
        "def square(x):\n",
        "    return x**2\n",
        "\n",
        "square(2)"
      ],
      "metadata": {
        "id": "eURyf93lRR93"
      },
      "execution_count": null,
      "outputs": []
    },
    {
      "cell_type": "code",
      "source": [
        "## sample cube function\n",
        "def cube(x):\n",
        "    return x**3\n",
        "\n",
        "cube(2)"
      ],
      "metadata": {
        "id": "cazn5CWgRR94"
      },
      "execution_count": null,
      "outputs": []
    },
    {
      "cell_type": "code",
      "source": [
        "## sample areas function\n",
        "def areas(x):\n",
        "    return [math.sqrt(3)*x**2/4, x**2, math.pi*x**2]\n",
        "\n",
        "areas(2)"
      ],
      "metadata": {
        "id": "eLZFou3IRR94"
      },
      "execution_count": null,
      "outputs": []
    },
    {
      "cell_type": "markdown",
      "source": [
        "**Exercise 1: Install the `jax` package**"
      ],
      "metadata": {
        "papermill": {
          "duration": 0.015931,
          "end_time": "2022-01-09T11:47:47.894827",
          "exception": false,
          "start_time": "2022-01-09T11:47:47.878896",
          "status": "completed"
        },
        "tags": [],
        "id": "RlTon5o-RR95"
      }
    },
    {
      "cell_type": "code",
      "source": [
        ""
      ],
      "metadata": {
        "papermill": {
          "duration": 9.887596,
          "end_time": "2022-01-09T11:47:57.799261",
          "exception": false,
          "start_time": "2022-01-09T11:47:47.911665",
          "status": "completed"
        },
        "tags": [],
        "trusted": true,
        "id": "0KYcG1vBRR95"
      },
      "execution_count": null,
      "outputs": []
    },
    {
      "cell_type": "markdown",
      "source": [
        "**Exercise 2: Import the `jax` package**"
      ],
      "metadata": {
        "papermill": {
          "duration": 0.01668,
          "end_time": "2022-01-09T11:47:57.833721",
          "exception": false,
          "start_time": "2022-01-09T11:47:57.817041",
          "status": "completed"
        },
        "tags": [],
        "id": "dvUdvjGSRR96"
      }
    },
    {
      "cell_type": "code",
      "source": [
        ""
      ],
      "metadata": {
        "papermill": {
          "duration": 0.024826,
          "end_time": "2022-01-09T11:47:57.875624",
          "exception": false,
          "start_time": "2022-01-09T11:47:57.850798",
          "status": "completed"
        },
        "tags": [],
        "trusted": true,
        "id": "uW1BlTBQRR96"
      },
      "execution_count": null,
      "outputs": []
    },
    {
      "cell_type": "markdown",
      "source": [
        "**Exercise 3: Display the version of `jax`**"
      ],
      "metadata": {
        "papermill": {
          "duration": 0.016778,
          "end_time": "2022-01-09T11:47:57.909635",
          "exception": false,
          "start_time": "2022-01-09T11:47:57.892857",
          "status": "completed"
        },
        "tags": [],
        "id": "34IJAouoRR96"
      }
    },
    {
      "cell_type": "code",
      "source": [
        ""
      ],
      "metadata": {
        "papermill": {
          "duration": 0.028537,
          "end_time": "2022-01-09T11:47:57.955199",
          "exception": false,
          "start_time": "2022-01-09T11:47:57.926662",
          "status": "completed"
        },
        "tags": [],
        "trusted": true,
        "id": "V5_VfJUdRR96"
      },
      "execution_count": null,
      "outputs": []
    },
    {
      "cell_type": "markdown",
      "source": [
        "**Exercise 4: Display the default backend of `jax`**"
      ],
      "metadata": {
        "papermill": {
          "duration": 0.016987,
          "end_time": "2022-01-09T11:47:57.989727",
          "exception": false,
          "start_time": "2022-01-09T11:47:57.97274",
          "status": "completed"
        },
        "tags": [],
        "id": "7TLxSITJRR97"
      }
    },
    {
      "cell_type": "code",
      "source": [
        ""
      ],
      "metadata": {
        "papermill": {
          "duration": 0.050031,
          "end_time": "2022-01-09T11:47:58.057205",
          "exception": false,
          "start_time": "2022-01-09T11:47:58.007174",
          "status": "completed"
        },
        "tags": [],
        "trusted": true,
        "id": "1XBL9NTxRR97"
      },
      "execution_count": null,
      "outputs": []
    },
    {
      "cell_type": "markdown",
      "source": [
        "**Exercise 5: Display the devices of the backend**"
      ],
      "metadata": {
        "papermill": {
          "duration": 0.017468,
          "end_time": "2022-01-09T11:47:58.092399",
          "exception": false,
          "start_time": "2022-01-09T11:47:58.074931",
          "status": "completed"
        },
        "tags": [],
        "id": "JpMb2XQ2RR97"
      }
    },
    {
      "cell_type": "code",
      "source": [
        ""
      ],
      "metadata": {
        "papermill": {
          "duration": 0.025322,
          "end_time": "2022-01-09T11:47:58.135399",
          "exception": false,
          "start_time": "2022-01-09T11:47:58.110077",
          "status": "completed"
        },
        "tags": [],
        "trusted": true,
        "id": "sZ70dK-WRR97"
      },
      "execution_count": null,
      "outputs": []
    },
    {
      "cell_type": "markdown",
      "source": [
        "**Exercise 6: Create a JAX DeviceArray with values [10, 1, 24] and assign it to `data`**"
      ],
      "metadata": {
        "papermill": {
          "duration": 0.017909,
          "end_time": "2022-01-09T11:47:58.171633",
          "exception": false,
          "start_time": "2022-01-09T11:47:58.153724",
          "status": "completed"
        },
        "tags": [],
        "id": "2vIeIoDiRR97"
      }
    },
    {
      "cell_type": "code",
      "source": [
        ""
      ],
      "metadata": {
        "papermill": {
          "duration": 0.241411,
          "end_time": "2022-01-09T11:47:58.431082",
          "exception": false,
          "start_time": "2022-01-09T11:47:58.189671",
          "status": "completed"
        },
        "tags": [],
        "trusted": true,
        "id": "stFleXQzRR97"
      },
      "execution_count": null,
      "outputs": []
    },
    {
      "cell_type": "markdown",
      "source": [
        "**Exercise 7: Display the type of `data`**"
      ],
      "metadata": {
        "papermill": {
          "duration": 0.018122,
          "end_time": "2022-01-09T11:47:58.467996",
          "exception": false,
          "start_time": "2022-01-09T11:47:58.449874",
          "status": "completed"
        },
        "tags": [],
        "id": "KWy5XxznRR98"
      }
    },
    {
      "cell_type": "code",
      "source": [
        ""
      ],
      "metadata": {
        "papermill": {
          "duration": 0.027493,
          "end_time": "2022-01-09T11:47:58.513999",
          "exception": false,
          "start_time": "2022-01-09T11:47:58.486506",
          "status": "completed"
        },
        "tags": [],
        "trusted": true,
        "id": "9FMdOE0pRR98"
      },
      "execution_count": null,
      "outputs": []
    },
    {
      "cell_type": "markdown",
      "source": [
        "**Exercise 8: Display the shape of `data`**"
      ],
      "metadata": {
        "papermill": {
          "duration": 0.018392,
          "end_time": "2022-01-09T11:47:58.55108",
          "exception": false,
          "start_time": "2022-01-09T11:47:58.532688",
          "status": "completed"
        },
        "tags": [],
        "id": "BfP6zrITRR98"
      }
    },
    {
      "cell_type": "code",
      "source": [
        ""
      ],
      "metadata": {
        "papermill": {
          "duration": 0.02724,
          "end_time": "2022-01-09T11:47:58.598463",
          "exception": false,
          "start_time": "2022-01-09T11:47:58.571223",
          "status": "completed"
        },
        "tags": [],
        "trusted": true,
        "id": "Yh9lWYGzRR98"
      },
      "execution_count": null,
      "outputs": []
    },
    {
      "cell_type": "markdown",
      "source": [
        "**Exercise 9: Transfer `data` to host and assign it to `data_host`**"
      ],
      "metadata": {
        "papermill": {
          "duration": 0.018859,
          "end_time": "2022-01-09T11:47:58.636233",
          "exception": false,
          "start_time": "2022-01-09T11:47:58.617374",
          "status": "completed"
        },
        "tags": [],
        "id": "oYfTuB8iRR98"
      }
    },
    {
      "cell_type": "code",
      "source": [
        ""
      ],
      "metadata": {
        "papermill": {
          "duration": 0.028099,
          "end_time": "2022-01-09T11:47:58.683844",
          "exception": false,
          "start_time": "2022-01-09T11:47:58.655745",
          "status": "completed"
        },
        "tags": [],
        "trusted": true,
        "id": "6o5s3XmuRR98"
      },
      "execution_count": null,
      "outputs": []
    },
    {
      "cell_type": "markdown",
      "source": [
        "**Exercise 10: Transfer `data_host` to device and assign it to `data_device`**"
      ],
      "metadata": {
        "papermill": {
          "duration": 0.019269,
          "end_time": "2022-01-09T11:47:58.722819",
          "exception": false,
          "start_time": "2022-01-09T11:47:58.70355",
          "status": "completed"
        },
        "tags": [],
        "id": "Cwl-3haMRR99"
      }
    },
    {
      "cell_type": "code",
      "source": [
        ""
      ],
      "metadata": {
        "papermill": {
          "duration": 0.028953,
          "end_time": "2022-01-09T11:47:58.771073",
          "exception": false,
          "start_time": "2022-01-09T11:47:58.74212",
          "status": "completed"
        },
        "tags": [],
        "trusted": true,
        "id": "H_Ny7NP1RR99"
      },
      "execution_count": null,
      "outputs": []
    },
    {
      "cell_type": "markdown",
      "source": [
        "**Exercise 11: Create a matrix with values [[10, 1, 24], [20, 15, 14]] and assign it to `data`**"
      ],
      "metadata": {
        "id": "EGwTPsfmRR99"
      }
    },
    {
      "cell_type": "code",
      "source": [
        ""
      ],
      "metadata": {
        "id": "dJntZoViRR99"
      },
      "execution_count": null,
      "outputs": []
    },
    {
      "cell_type": "markdown",
      "source": [
        "**Exercise 12: Assign the transpose of `data` to `dataT`**"
      ],
      "metadata": {
        "id": "yV6UgidmRR99"
      }
    },
    {
      "cell_type": "code",
      "source": [
        ""
      ],
      "metadata": {
        "id": "GxA1CasHRR9-"
      },
      "execution_count": null,
      "outputs": []
    },
    {
      "cell_type": "markdown",
      "source": [
        "**Exercise 13: Assign the element of `data` at index [0, 2] to `value`**"
      ],
      "metadata": {
        "id": "U4Ih1V0lRR9-"
      }
    },
    {
      "cell_type": "code",
      "source": [
        ""
      ],
      "metadata": {
        "id": "eK0wWdztRR9-"
      },
      "execution_count": null,
      "outputs": []
    },
    {
      "cell_type": "markdown",
      "source": [
        "**Exercise 14: Update the value of `data` at index [1, 1] to `100`**"
      ],
      "metadata": {
        "id": "UyYhXNMiRR9-"
      }
    },
    {
      "cell_type": "code",
      "source": [
        ""
      ],
      "metadata": {
        "id": "bFnt7H_bRR9-"
      },
      "execution_count": null,
      "outputs": []
    },
    {
      "cell_type": "markdown",
      "source": [
        "**Exercise 15: Add `41` to the value of `data` at index [0, 0]**"
      ],
      "metadata": {
        "id": "6eUKLQt1RR9-"
      }
    },
    {
      "cell_type": "code",
      "source": [
        ""
      ],
      "metadata": {
        "id": "445lNrdXRR9_"
      },
      "execution_count": null,
      "outputs": []
    },
    {
      "cell_type": "markdown",
      "source": [
        "**Exercise 16: Calculate the minimum values over axis=1 and assign it to `mins`**"
      ],
      "metadata": {
        "id": "z-Y_HIgaRR9_"
      }
    },
    {
      "cell_type": "code",
      "source": [
        ""
      ],
      "metadata": {
        "id": "D9PkrxXVRR9_"
      },
      "execution_count": null,
      "outputs": []
    },
    {
      "cell_type": "markdown",
      "source": [
        "**Exercise 17: Select the first row of values of `data` and assign it to `data_select`**"
      ],
      "metadata": {
        "id": "lE1PxCB3RR9_"
      }
    },
    {
      "cell_type": "code",
      "source": [
        ""
      ],
      "metadata": {
        "id": "X52pdGeSRR9_"
      },
      "execution_count": null,
      "outputs": []
    },
    {
      "cell_type": "markdown",
      "source": [
        "**Exercise 18: Append the row `data_select` to `data`**"
      ],
      "metadata": {
        "id": "YieXR3dORR9_"
      }
    },
    {
      "cell_type": "code",
      "source": [
        ""
      ],
      "metadata": {
        "id": "YndFVoWqRR9_"
      },
      "execution_count": null,
      "outputs": []
    },
    {
      "cell_type": "markdown",
      "source": [
        "**Exercise 19: Multiply the matrices `data` and `dataT` and assign it to `data_prod`**"
      ],
      "metadata": {
        "id": "F3Y3KLwFRR9_"
      }
    },
    {
      "cell_type": "code",
      "source": [
        ""
      ],
      "metadata": {
        "id": "vuaID-A4RR-A"
      },
      "execution_count": null,
      "outputs": []
    },
    {
      "cell_type": "markdown",
      "source": [
        "**Exercise 20: Convert the dtype of `data_prod` to `float32`**"
      ],
      "metadata": {
        "id": "Ww0aoek4RR-A"
      }
    },
    {
      "cell_type": "code",
      "source": [
        ""
      ],
      "metadata": {
        "id": "ojmqudgCRR-A"
      },
      "execution_count": null,
      "outputs": []
    },
    {
      "cell_type": "markdown",
      "source": [
        "**Exercise 21: Create a pseudorandom number generator key with seed=100 and assign it to `key`**"
      ],
      "metadata": {
        "id": "kn5tEtHVRR-A"
      }
    },
    {
      "cell_type": "code",
      "source": [
        ""
      ],
      "metadata": {
        "id": "P13zDK9iRR-A"
      },
      "execution_count": null,
      "outputs": []
    },
    {
      "cell_type": "markdown",
      "source": [
        "**Exercise 22: Create a subkey from `key` and assign it to `subkey`**"
      ],
      "metadata": {
        "id": "FL_V75L9RR-A"
      }
    },
    {
      "cell_type": "code",
      "source": [
        ""
      ],
      "metadata": {
        "id": "JK58HCWTRR-A"
      },
      "execution_count": null,
      "outputs": []
    },
    {
      "cell_type": "markdown",
      "source": [
        "**Exercise 23: Split `key` into seven subkeys `key_1`, `key_2`, `key_3`, `key_4`, `key_5`, `key_6` and `key_7`**"
      ],
      "metadata": {
        "id": "mlaJWKVgRR-A"
      }
    },
    {
      "cell_type": "code",
      "source": [
        ""
      ],
      "metadata": {
        "id": "NXL7r9ZjRR-B"
      },
      "execution_count": null,
      "outputs": []
    },
    {
      "cell_type": "markdown",
      "source": [
        "**Exercise 24: Create a random permutation of `sample_data` using `key_1` and assign it to `data_permutation`**"
      ],
      "metadata": {
        "id": "WLham5P4RR-B"
      }
    },
    {
      "cell_type": "code",
      "source": [
        ""
      ],
      "metadata": {
        "id": "Wee-Lp-5RR-B"
      },
      "execution_count": null,
      "outputs": []
    },
    {
      "cell_type": "markdown",
      "source": [
        "**Exercise 25: Choose a random element from `sample_data` using `key_2` and assign it to `random_selection`**"
      ],
      "metadata": {
        "id": "cInGwHkVRR-B"
      }
    },
    {
      "cell_type": "code",
      "source": [
        ""
      ],
      "metadata": {
        "id": "_cOeTcIORR-B"
      },
      "execution_count": null,
      "outputs": []
    },
    {
      "cell_type": "markdown",
      "source": [
        "**Exercise 26: Sample an integer between 10 and 24 using `key_3` and assign it to `sample_int`**"
      ],
      "metadata": {
        "id": "5TMC6ECRRR-B"
      }
    },
    {
      "cell_type": "code",
      "source": [
        ""
      ],
      "metadata": {
        "id": "cYNUhrZjRR-B"
      },
      "execution_count": null,
      "outputs": []
    },
    {
      "cell_type": "markdown",
      "source": [
        "**Exercise 27: Sample two values from uniform distribution between 1 and 2 using `key_4` and assign it to `sample_uniform`**"
      ],
      "metadata": {
        "id": "x7XDw99nRR-B"
      }
    },
    {
      "cell_type": "code",
      "source": [
        ""
      ],
      "metadata": {
        "id": "UaUA3MMjRR-C"
      },
      "execution_count": null,
      "outputs": []
    },
    {
      "cell_type": "markdown",
      "source": [
        "**Exercise 28: Sample three values from bernoulli distribution using `key_5` and assign it to `sample_bernoulli`**"
      ],
      "metadata": {
        "id": "n-Hx6Yo9RR-C"
      }
    },
    {
      "cell_type": "code",
      "source": [
        ""
      ],
      "metadata": {
        "id": "olI5EH50RR-C"
      },
      "execution_count": null,
      "outputs": []
    },
    {
      "cell_type": "markdown",
      "source": [
        "**Exercise 29: Sample a 2x3 matrix from poisson distribution with λ=100 using `key_6` and assign it to `sample_poisson`**"
      ],
      "metadata": {
        "id": "IwBlasR4RR-C"
      }
    },
    {
      "cell_type": "code",
      "source": [
        ""
      ],
      "metadata": {
        "id": "zTI5IDqURR-C"
      },
      "execution_count": null,
      "outputs": []
    },
    {
      "cell_type": "markdown",
      "source": [
        "**Exercise 30: Sample a 2x3x4 array from normal distribution using `key_7` and assign it to `sample_normal`**"
      ],
      "metadata": {
        "id": "hpboOSMmRR-C"
      }
    },
    {
      "cell_type": "code",
      "source": [
        ""
      ],
      "metadata": {
        "id": "iN-QqVItRR-C"
      },
      "execution_count": null,
      "outputs": []
    },
    {
      "cell_type": "markdown",
      "source": [
        "**Exercise 31: JIT-compile the `cube` function and assign it to `cube_jit`**"
      ],
      "metadata": {
        "id": "HWsvBUMnRR-C"
      }
    },
    {
      "cell_type": "code",
      "source": [
        ""
      ],
      "metadata": {
        "id": "aGKPL-1GRR-D"
      },
      "execution_count": null,
      "outputs": []
    },
    {
      "cell_type": "markdown",
      "source": [
        "**Exercise 32: Display the execution time of `cube_jit` for first run (with overhead) with input=10.24**"
      ],
      "metadata": {
        "id": "RjaQy0dDRR-D"
      }
    },
    {
      "cell_type": "code",
      "source": [
        ""
      ],
      "metadata": {
        "id": "UObgNgnORR-D"
      },
      "execution_count": null,
      "outputs": []
    },
    {
      "cell_type": "markdown",
      "source": [
        "**Exercise 33: Display execution time of `cube_jit` for second run (without overhead) with input=10.24**"
      ],
      "metadata": {
        "id": "5_IKX78HRR-D"
      }
    },
    {
      "cell_type": "code",
      "source": [
        ""
      ],
      "metadata": {
        "id": "Dp5OiG-2RR-D"
      },
      "execution_count": null,
      "outputs": []
    },
    {
      "cell_type": "markdown",
      "source": [
        "**Exercise 34: Run `cube_jit` with input=10.24 and assign it to `cube_value`**"
      ],
      "metadata": {
        "id": "F5sX-VbERR-D"
      }
    },
    {
      "cell_type": "code",
      "source": [
        ""
      ],
      "metadata": {
        "id": "1hWtoyUkRR-D"
      },
      "execution_count": null,
      "outputs": []
    },
    {
      "cell_type": "markdown",
      "source": [
        "**Exercise 35: Run `cube_jit` with jit disabled and input=10.24 and assign it to `cube_value_nojit`**"
      ],
      "metadata": {
        "id": "URjm9L93RR-D"
      }
    },
    {
      "cell_type": "code",
      "source": [
        ""
      ],
      "metadata": {
        "id": "jc8gIiZBRR-E"
      },
      "execution_count": null,
      "outputs": []
    },
    {
      "cell_type": "markdown",
      "source": [
        "**Exercise 36: Evaluate the shape of `cube_jit` with input=10.24 and assign it to `cube_shape`**"
      ],
      "metadata": {
        "id": "AhaYFB5dRR-E"
      }
    },
    {
      "cell_type": "code",
      "source": [
        ""
      ],
      "metadata": {
        "id": "Ew1ZG8BbRR-E"
      },
      "execution_count": null,
      "outputs": []
    },
    {
      "cell_type": "markdown",
      "source": [
        "**Exercise 37: Create the jaxpr of `cube_jit` with input=10.24 and assign it to `cube_jaxpr`**"
      ],
      "metadata": {
        "id": "mZW81l7FRR-E"
      }
    },
    {
      "cell_type": "code",
      "source": [
        ""
      ],
      "metadata": {
        "id": "b0I9bQNrRR-E"
      },
      "execution_count": null,
      "outputs": []
    },
    {
      "cell_type": "markdown",
      "source": [
        "**Exercise 38: Assign the XLA computation of `cube_jit` with input=10.24 to `cube_xla` and print it's XLA HLO text**"
      ],
      "metadata": {
        "id": "_yvW5YLqRR-E"
      }
    },
    {
      "cell_type": "code",
      "source": [
        ""
      ],
      "metadata": {
        "id": "0-qEtxekRR-E"
      },
      "execution_count": null,
      "outputs": []
    },
    {
      "cell_type": "markdown",
      "source": [
        "**Exercise 39: Use the name `jaxton_cube_fn` internally for the `cube_jit` function and assign the named function to `cube_named_jit`**"
      ],
      "metadata": {
        "id": "eOoXLAKORR-E"
      }
    },
    {
      "cell_type": "code",
      "source": [
        ""
      ],
      "metadata": {
        "id": "YMIPUuQKRR-F"
      },
      "execution_count": null,
      "outputs": []
    },
    {
      "cell_type": "markdown",
      "source": [
        "**Exercise 40: Assign the XLA computation of `cube_named_jit` with input=10.24 to `cube_named_xla` and print it's XLA HLO text**"
      ],
      "metadata": {
        "id": "ukGqOj-FRR-F"
      }
    },
    {
      "cell_type": "code",
      "source": [
        ""
      ],
      "metadata": {
        "id": "MDYAH7JsRR-F"
      },
      "execution_count": null,
      "outputs": []
    },
    {
      "cell_type": "markdown",
      "source": [
        "**Exercise 41: Calculate the cumulative sum of `sample_data` using the associative scan operator and assign it to `data_cumsum`**"
      ],
      "metadata": {
        "id": "GsdANEeKRR-F"
      }
    },
    {
      "cell_type": "code",
      "source": [
        ""
      ],
      "metadata": {
        "id": "clEFNfM5RR-F"
      },
      "execution_count": null,
      "outputs": []
    },
    {
      "cell_type": "markdown",
      "source": [
        "**Exercise 42: Calculate the cumulative sum of `sample_data` in reverse order using the associative scan operator and assign it to `data_cumsum_reverse`**"
      ],
      "metadata": {
        "id": "pTpeObojRR-F"
      }
    },
    {
      "cell_type": "code",
      "source": [
        ""
      ],
      "metadata": {
        "id": "sF7N3P2eRR-F"
      },
      "execution_count": null,
      "outputs": []
    },
    {
      "cell_type": "markdown",
      "source": [
        "**Exercise 43: Create a JIT-compiled lambda function that outputs `square` of input if it is even and `cube` of input if it is odd using the cond operator and assign it to `parity_ifelse`**"
      ],
      "metadata": {
        "id": "DVg3x7OHRR-G"
      }
    },
    {
      "cell_type": "code",
      "source": [
        ""
      ],
      "metadata": {
        "id": "nhG_86_1RR-G"
      },
      "execution_count": null,
      "outputs": []
    },
    {
      "cell_type": "markdown",
      "source": [
        "**Exercise 44: Run `parity_ifelse` with the first element of `data_cumsum` and assign it to `parity_1`**"
      ],
      "metadata": {
        "id": "HbfCj51bRR-G"
      }
    },
    {
      "cell_type": "code",
      "source": [
        ""
      ],
      "metadata": {
        "id": "LaZCZ6u5RR-G"
      },
      "execution_count": null,
      "outputs": []
    },
    {
      "cell_type": "markdown",
      "source": [
        "**Exercise 45: Run `parity_ifelse` with the second element of `data_cumsum` and assign it to `parity_2`**"
      ],
      "metadata": {
        "id": "qYrpBFBQRR-G"
      }
    },
    {
      "cell_type": "code",
      "source": [
        ""
      ],
      "metadata": {
        "id": "mCPzqzF7RR-G"
      },
      "execution_count": null,
      "outputs": []
    },
    {
      "cell_type": "markdown",
      "source": [
        "**Exercise 46: Create a JIT-compiled lambda function that outputs `square` of input if it is even and `cube` of input if it is odd using the switch operator and assign it to `parity_switch`**"
      ],
      "metadata": {
        "id": "7rdd9m8pRR-G"
      }
    },
    {
      "cell_type": "code",
      "source": [
        ""
      ],
      "metadata": {
        "id": "qVIUbbEURR-H"
      },
      "execution_count": null,
      "outputs": []
    },
    {
      "cell_type": "markdown",
      "source": [
        "**Exercise 47: Run `parity_switch` with the fourth element of `data_cumsum` and assign it to `parity_4`**"
      ],
      "metadata": {
        "id": "TYdFdS2iRR-H"
      }
    },
    {
      "cell_type": "code",
      "source": [
        ""
      ],
      "metadata": {
        "id": "oFe2fN3YRR-H"
      },
      "execution_count": null,
      "outputs": []
    },
    {
      "cell_type": "markdown",
      "source": [
        "**Exercise 48: Run `parity_switch` with the fifth element of `data_cumsum` and assign it to `parity_5`**"
      ],
      "metadata": {
        "id": "qEqTg9AMRR-H"
      }
    },
    {
      "cell_type": "code",
      "source": [
        ""
      ],
      "metadata": {
        "id": "-HE-A-55RR-H"
      },
      "execution_count": null,
      "outputs": []
    },
    {
      "cell_type": "markdown",
      "source": [
        "**Exercise 49: Calculate the sum of the first four elements of `data_cumsum` using the for operator and assign it to `sum_four`**"
      ],
      "metadata": {
        "id": "iZ7e_RVFRR-H"
      }
    },
    {
      "cell_type": "code",
      "source": [
        ""
      ],
      "metadata": {
        "id": "BssH7vqkRR-H"
      },
      "execution_count": null,
      "outputs": []
    },
    {
      "cell_type": "markdown",
      "source": [
        "**Exercise 50: Keep subtracting 25 from `sum_four` until the result is negative using the while operator and assign it to `subtract_until_negative`**"
      ],
      "metadata": {
        "id": "Tj3O1-fKRR-H"
      }
    },
    {
      "cell_type": "code",
      "source": [
        ""
      ],
      "metadata": {
        "id": "VeE7QYWuRR-I"
      },
      "execution_count": null,
      "outputs": []
    },
    {
      "cell_type": "markdown",
      "source": [
        "**Exercise 51: JIT-compile the derivative of `cube` and assign it to `derivative_cube`**"
      ],
      "metadata": {
        "id": "4E3MiLkuRR-I"
      }
    },
    {
      "cell_type": "code",
      "source": [
        ""
      ],
      "metadata": {
        "id": "vukFduxLRR-I"
      },
      "execution_count": null,
      "outputs": []
    },
    {
      "cell_type": "markdown",
      "source": [
        "**Exercise 52: Run `derivative_cube` with value=7**"
      ],
      "metadata": {
        "id": "k5BvypihRR-I"
      }
    },
    {
      "cell_type": "code",
      "source": [
        ""
      ],
      "metadata": {
        "id": "BsUGhvXKRR-I"
      },
      "execution_count": null,
      "outputs": []
    },
    {
      "cell_type": "markdown",
      "source": [
        "**Exercise 53: JIT-compile the value and derivative of `cube` together, assign it to `value_and_derivative_cube` and run it with value=7**"
      ],
      "metadata": {
        "id": "vDKTkbxfRR-I"
      }
    },
    {
      "cell_type": "code",
      "source": [
        ""
      ],
      "metadata": {
        "id": "4ubNVCiVRR-I"
      },
      "execution_count": null,
      "outputs": []
    },
    {
      "cell_type": "markdown",
      "source": [
        "**Exercise 54: JIT-compile the second order derivative of `cube`, assign it to `derivative_cube_2` and run it with value=7**"
      ],
      "metadata": {
        "id": "eiIvIcAQRR-I"
      }
    },
    {
      "cell_type": "code",
      "source": [
        ""
      ],
      "metadata": {
        "id": "aL2_zORpRR-J"
      },
      "execution_count": null,
      "outputs": []
    },
    {
      "cell_type": "markdown",
      "source": [
        "**Exercise 55: JIT-compile the hessian of `cube`, assign it to `hessian_cube` and run it with value=7**"
      ],
      "metadata": {
        "id": "Oc4b1Z5ORR-J"
      }
    },
    {
      "cell_type": "code",
      "source": [
        ""
      ],
      "metadata": {
        "id": "enhTw3EkRR-J"
      },
      "execution_count": null,
      "outputs": []
    },
    {
      "cell_type": "markdown",
      "source": [
        "**Exercise 56: JIT-compile `areas`, assign it to `jit_areas` and run it with value=9**"
      ],
      "metadata": {
        "id": "oqrzLoB0RR-J"
      }
    },
    {
      "cell_type": "code",
      "source": [
        ""
      ],
      "metadata": {
        "id": "ttxcctHhRR-J"
      },
      "execution_count": null,
      "outputs": []
    },
    {
      "cell_type": "markdown",
      "source": [
        "**Exercise 57: Compute the Jacobian of `areas` using forward-mode automatic differentiation, assign it to `jacfwd_areas` and run it with value=9**"
      ],
      "metadata": {
        "id": "W3nLmB1BRR-J"
      }
    },
    {
      "cell_type": "code",
      "source": [
        ""
      ],
      "metadata": {
        "id": "XMcahgctRR-K"
      },
      "execution_count": null,
      "outputs": []
    },
    {
      "cell_type": "markdown",
      "source": [
        "**Exercise 58: Compute the Jacobian of `areas` using reverse-mode automatic differentiation, assign it to `jacrev_areas` and run it with value=9**"
      ],
      "metadata": {
        "id": "PXg9gKjGRR-K"
      }
    },
    {
      "cell_type": "code",
      "source": [
        ""
      ],
      "metadata": {
        "id": "LwVUCxf2RR-K"
      },
      "execution_count": null,
      "outputs": []
    },
    {
      "cell_type": "markdown",
      "source": [
        "**Exercise 59: Compute the Jacobian-vector product of `cube` at value=7 with vector=9 and assign it to `jvp_cube`**"
      ],
      "metadata": {
        "id": "L0E8y1srRR-K"
      }
    },
    {
      "cell_type": "code",
      "source": [
        ""
      ],
      "metadata": {
        "id": "VKO_dHw1RR-K"
      },
      "execution_count": null,
      "outputs": []
    },
    {
      "cell_type": "markdown",
      "source": [
        "**Exercise 60: Compute the linear approximation of `areas` with value=5, assign it to `areas_linear` and run it with value=9**"
      ],
      "metadata": {
        "id": "az4BAzW0RR-K"
      }
    },
    {
      "cell_type": "code",
      "source": [
        ""
      ],
      "metadata": {
        "id": "dQt43E3iRR-K"
      },
      "execution_count": null,
      "outputs": []
    },
    {
      "cell_type": "markdown",
      "source": [
        "<center>\n",
        "    All exercises of <b>JaxTon</b>: <i>💯 JAX exercises</i>\n",
        "    <br>\n",
        "    You can find individual sets of the exercises and solutions on <a href=\"https://github.com/vopani/jaxton#exercises-\">GitHub</a>\n",
        "</center>"
      ],
      "metadata": {
        "papermill": {
          "duration": 0.019317,
          "end_time": "2022-01-09T11:47:58.810595",
          "exception": false,
          "start_time": "2022-01-09T11:47:58.791278",
          "status": "completed"
        },
        "tags": [],
        "id": "Argj75qARR-K"
      }
    }
  ]
}